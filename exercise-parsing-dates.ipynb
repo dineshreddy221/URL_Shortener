{
 "cells": [
  {
   "cell_type": "markdown",
   "id": "c66d0b70",
   "metadata": {
    "papermill": {
     "duration": 0.012317,
     "end_time": "2022-05-26T10:44:06.408796",
     "exception": false,
     "start_time": "2022-05-26T10:44:06.396479",
     "status": "completed"
    },
    "tags": []
   },
   "source": [
    "**This notebook is an exercise in the [Data Cleaning](https://www.kaggle.com/learn/data-cleaning) course.  You can reference the tutorial at [this link](https://www.kaggle.com/alexisbcook/parsing-dates).**\n",
    "\n",
    "---\n"
   ]
  },
  {
   "cell_type": "markdown",
   "id": "bc150c1c",
   "metadata": {
    "papermill": {
     "duration": 0.011125,
     "end_time": "2022-05-26T10:44:06.431962",
     "exception": false,
     "start_time": "2022-05-26T10:44:06.420837",
     "status": "completed"
    },
    "tags": []
   },
   "source": [
    "In this exercise, you'll apply what you learned in the **Parsing dates** tutorial.\n",
    "\n",
    "# Setup\n",
    "\n",
    "The questions below will give you feedback on your work. Run the following cell to set up the feedback system."
   ]
  },
  {
   "cell_type": "code",
   "execution_count": 1,
   "id": "ff0cf8de",
   "metadata": {
    "execution": {
     "iopub.execute_input": "2022-05-26T10:44:06.456784Z",
     "iopub.status.busy": "2022-05-26T10:44:06.455560Z",
     "iopub.status.idle": "2022-05-26T10:44:08.073323Z",
     "shell.execute_reply": "2022-05-26T10:44:08.072092Z"
    },
    "papermill": {
     "duration": 1.633615,
     "end_time": "2022-05-26T10:44:08.076822",
     "exception": false,
     "start_time": "2022-05-26T10:44:06.443207",
     "status": "completed"
    },
    "tags": []
   },
   "outputs": [
    {
     "name": "stdout",
     "output_type": "stream",
     "text": [
      "Setup Complete\n"
     ]
    }
   ],
   "source": [
    "from learntools.core import binder\n",
    "binder.bind(globals())\n",
    "from learntools.data_cleaning.ex3 import *\n",
    "print(\"Setup Complete\")"
   ]
  },
  {
   "cell_type": "markdown",
   "id": "6be04c6a",
   "metadata": {
    "papermill": {
     "duration": 0.010308,
     "end_time": "2022-05-26T10:44:08.098932",
     "exception": false,
     "start_time": "2022-05-26T10:44:08.088624",
     "status": "completed"
    },
    "tags": []
   },
   "source": [
    "# Get our environment set up\n",
    "\n",
    "The first thing we'll need to do is load in the libraries and dataset we'll be using. We'll be working with a dataset containing information on earthquakes that occured between 1965 and 2016."
   ]
  },
  {
   "cell_type": "code",
   "execution_count": 2,
   "id": "af1d3a3e",
   "metadata": {
    "execution": {
     "iopub.execute_input": "2022-05-26T10:44:08.122609Z",
     "iopub.status.busy": "2022-05-26T10:44:08.121744Z",
     "iopub.status.idle": "2022-05-26T10:44:08.233403Z",
     "shell.execute_reply": "2022-05-26T10:44:08.232188Z"
    },
    "papermill": {
     "duration": 0.126565,
     "end_time": "2022-05-26T10:44:08.236203",
     "exception": false,
     "start_time": "2022-05-26T10:44:08.109638",
     "status": "completed"
    },
    "tags": []
   },
   "outputs": [],
   "source": [
    "# modules we'll use\n",
    "import pandas as pd\n",
    "import numpy as np\n",
    "import seaborn as sns\n",
    "import datetime\n",
    "\n",
    "# read in our data\n",
    "earthquakes = pd.read_csv(\"../input/earthquake-database/database.csv\")\n",
    "\n",
    "# set seed for reproducibility\n",
    "np.random.seed(0)"
   ]
  },
  {
   "cell_type": "markdown",
   "id": "50a5d830",
   "metadata": {
    "papermill": {
     "duration": 0.011,
     "end_time": "2022-05-26T10:44:08.258608",
     "exception": false,
     "start_time": "2022-05-26T10:44:08.247608",
     "status": "completed"
    },
    "tags": []
   },
   "source": [
    "# 1) Check the data type of our date column\n",
    "\n",
    "You'll be working with the \"Date\" column from the `earthquakes` dataframe.  Investigate this column now: does it look like it contains dates?  What is the dtype of the column?"
   ]
  },
  {
   "cell_type": "code",
   "execution_count": 3,
   "id": "c9bd5916",
   "metadata": {
    "execution": {
     "iopub.execute_input": "2022-05-26T10:44:08.283596Z",
     "iopub.status.busy": "2022-05-26T10:44:08.283090Z",
     "iopub.status.idle": "2022-05-26T10:44:08.329197Z",
     "shell.execute_reply": "2022-05-26T10:44:08.327229Z"
    },
    "papermill": {
     "duration": 0.062659,
     "end_time": "2022-05-26T10:44:08.332718",
     "exception": false,
     "start_time": "2022-05-26T10:44:08.270059",
     "status": "completed"
    },
    "tags": []
   },
   "outputs": [
    {
     "name": "stdout",
     "output_type": "stream",
     "text": [
      "<class 'pandas.core.frame.DataFrame'>\n",
      "RangeIndex: 23412 entries, 0 to 23411\n",
      "Data columns (total 21 columns):\n",
      " #   Column                      Non-Null Count  Dtype  \n",
      "---  ------                      --------------  -----  \n",
      " 0   Date                        23412 non-null  object \n",
      " 1   Time                        23412 non-null  object \n",
      " 2   Latitude                    23412 non-null  float64\n",
      " 3   Longitude                   23412 non-null  float64\n",
      " 4   Type                        23412 non-null  object \n",
      " 5   Depth                       23412 non-null  float64\n",
      " 6   Depth Error                 4461 non-null   float64\n",
      " 7   Depth Seismic Stations      7097 non-null   float64\n",
      " 8   Magnitude                   23412 non-null  float64\n",
      " 9   Magnitude Type              23409 non-null  object \n",
      " 10  Magnitude Error             327 non-null    float64\n",
      " 11  Magnitude Seismic Stations  2564 non-null   float64\n",
      " 12  Azimuthal Gap               7299 non-null   float64\n",
      " 13  Horizontal Distance         1604 non-null   float64\n",
      " 14  Horizontal Error            1156 non-null   float64\n",
      " 15  Root Mean Square            17352 non-null  float64\n",
      " 16  ID                          23412 non-null  object \n",
      " 17  Source                      23412 non-null  object \n",
      " 18  Location Source             23412 non-null  object \n",
      " 19  Magnitude Source            23412 non-null  object \n",
      " 20  Status                      23412 non-null  object \n",
      "dtypes: float64(12), object(9)\n",
      "memory usage: 3.8+ MB\n"
     ]
    }
   ],
   "source": [
    "# TODO: Your code here!\n",
    "earthquakes.info()"
   ]
  },
  {
   "cell_type": "code",
   "execution_count": 4,
   "id": "197499cf",
   "metadata": {
    "execution": {
     "iopub.execute_input": "2022-05-26T10:44:08.357355Z",
     "iopub.status.busy": "2022-05-26T10:44:08.356029Z",
     "iopub.status.idle": "2022-05-26T10:44:08.367320Z",
     "shell.execute_reply": "2022-05-26T10:44:08.366477Z"
    },
    "papermill": {
     "duration": 0.025408,
     "end_time": "2022-05-26T10:44:08.369242",
     "exception": false,
     "start_time": "2022-05-26T10:44:08.343834",
     "status": "completed"
    },
    "tags": []
   },
   "outputs": [
    {
     "data": {
      "text/plain": [
       "0    01/02/1965\n",
       "1    01/04/1965\n",
       "2    01/05/1965\n",
       "3    01/08/1965\n",
       "4    01/09/1965\n",
       "Name: Date, dtype: object"
      ]
     },
     "execution_count": 4,
     "metadata": {},
     "output_type": "execute_result"
    }
   ],
   "source": [
    "earthquakes['Date'].head()"
   ]
  },
  {
   "cell_type": "markdown",
   "id": "05a85bfb",
   "metadata": {
    "papermill": {
     "duration": 0.011492,
     "end_time": "2022-05-26T10:44:08.392760",
     "exception": false,
     "start_time": "2022-05-26T10:44:08.381268",
     "status": "completed"
    },
    "tags": []
   },
   "source": [
    "Once you have answered the question above, run the code cell below to get credit for your work."
   ]
  },
  {
   "cell_type": "code",
   "execution_count": 5,
   "id": "a660b00c",
   "metadata": {
    "execution": {
     "iopub.execute_input": "2022-05-26T10:44:08.419044Z",
     "iopub.status.busy": "2022-05-26T10:44:08.417731Z",
     "iopub.status.idle": "2022-05-26T10:44:08.424259Z",
     "shell.execute_reply": "2022-05-26T10:44:08.423513Z"
    },
    "papermill": {
     "duration": 0.022365,
     "end_time": "2022-05-26T10:44:08.426636",
     "exception": false,
     "start_time": "2022-05-26T10:44:08.404271",
     "status": "completed"
    },
    "tags": []
   },
   "outputs": [
    {
     "data": {
      "text/plain": [
       "dtype('O')"
      ]
     },
     "execution_count": 5,
     "metadata": {},
     "output_type": "execute_result"
    }
   ],
   "source": [
    "earthquakes['Date'].dtype"
   ]
  },
  {
   "cell_type": "code",
   "execution_count": 6,
   "id": "7c70779a",
   "metadata": {
    "execution": {
     "iopub.execute_input": "2022-05-26T10:44:08.452491Z",
     "iopub.status.busy": "2022-05-26T10:44:08.451245Z",
     "iopub.status.idle": "2022-05-26T10:44:08.460960Z",
     "shell.execute_reply": "2022-05-26T10:44:08.459714Z"
    },
    "papermill": {
     "duration": 0.024799,
     "end_time": "2022-05-26T10:44:08.463206",
     "exception": false,
     "start_time": "2022-05-26T10:44:08.438407",
     "status": "completed"
    },
    "tags": []
   },
   "outputs": [
    {
     "data": {
      "application/javascript": [
       "parent.postMessage({\"jupyterEvent\": \"custom.exercise_interaction\", \"data\": {\"outcomeType\": 1, \"valueTowardsCompletion\": 0.25, \"interactionType\": 1, \"questionType\": 4, \"questionId\": \"1_CheckDtype\", \"learnToolsVersion\": \"0.3.4\", \"failureMessage\": \"\", \"exceptionClass\": \"\", \"trace\": \"\"}}, \"*\")"
      ],
      "text/plain": [
       "<IPython.core.display.Javascript object>"
      ]
     },
     "metadata": {},
     "output_type": "display_data"
    },
    {
     "data": {
      "text/markdown": [
       "<span style=\"color:#33cc33\">Correct:</span> \n",
       "\n",
       "The \"Date\" column in the `earthquakes` DataFrame does have dates.  The dtype is \"object\"."
      ],
      "text/plain": [
       "Correct: \n",
       "\n",
       "The \"Date\" column in the `earthquakes` DataFrame does have dates.  The dtype is \"object\"."
      ]
     },
     "metadata": {},
     "output_type": "display_data"
    }
   ],
   "source": [
    "# Check your answer (Run this code cell to receive credit!)\n",
    "q1.check()"
   ]
  },
  {
   "cell_type": "code",
   "execution_count": 7,
   "id": "5e78b31d",
   "metadata": {
    "execution": {
     "iopub.execute_input": "2022-05-26T10:44:08.488829Z",
     "iopub.status.busy": "2022-05-26T10:44:08.487576Z",
     "iopub.status.idle": "2022-05-26T10:44:08.498567Z",
     "shell.execute_reply": "2022-05-26T10:44:08.497556Z"
    },
    "papermill": {
     "duration": 0.026129,
     "end_time": "2022-05-26T10:44:08.500953",
     "exception": false,
     "start_time": "2022-05-26T10:44:08.474824",
     "status": "completed"
    },
    "tags": []
   },
   "outputs": [
    {
     "data": {
      "application/javascript": [
       "parent.postMessage({\"jupyterEvent\": \"custom.exercise_interaction\", \"data\": {\"interactionType\": 2, \"questionType\": 4, \"questionId\": \"1_CheckDtype\", \"learnToolsVersion\": \"0.3.4\", \"valueTowardsCompletion\": 0.0, \"failureMessage\": \"\", \"exceptionClass\": \"\", \"trace\": \"\", \"outcomeType\": 4}}, \"*\")"
      ],
      "text/plain": [
       "<IPython.core.display.Javascript object>"
      ]
     },
     "metadata": {},
     "output_type": "display_data"
    },
    {
     "data": {
      "text/markdown": [
       "<span style=\"color:#3366cc\">Hint:</span> Use `earthquakes['Date'].head()` to check that the column contains dates and verify that it has dtype \"object\".  You can also use `earthquakes['Date'].dtype` to verify the dtype."
      ],
      "text/plain": [
       "Hint: Use `earthquakes['Date'].head()` to check that the column contains dates and verify that it has dtype \"object\".  You can also use `earthquakes['Date'].dtype` to verify the dtype."
      ]
     },
     "metadata": {},
     "output_type": "display_data"
    }
   ],
   "source": [
    "# Line below will give you a hint\n",
    "q1.hint()"
   ]
  },
  {
   "cell_type": "code",
   "execution_count": 8,
   "id": "c3119e26",
   "metadata": {
    "execution": {
     "iopub.execute_input": "2022-05-26T10:44:08.529139Z",
     "iopub.status.busy": "2022-05-26T10:44:08.527909Z",
     "iopub.status.idle": "2022-05-26T10:44:08.537691Z",
     "shell.execute_reply": "2022-05-26T10:44:08.536427Z"
    },
    "papermill": {
     "duration": 0.02617,
     "end_time": "2022-05-26T10:44:08.539915",
     "exception": false,
     "start_time": "2022-05-26T10:44:08.513745",
     "status": "completed"
    },
    "tags": []
   },
   "outputs": [
    {
     "data": {
      "text/plain": [
       "0    01/02/1965\n",
       "1    01/04/1965\n",
       "2    01/05/1965\n",
       "3    01/08/1965\n",
       "4    01/09/1965\n",
       "Name: Date, dtype: object"
      ]
     },
     "execution_count": 8,
     "metadata": {},
     "output_type": "execute_result"
    }
   ],
   "source": [
    "earthquakes['Date'].head()"
   ]
  },
  {
   "cell_type": "markdown",
   "id": "8e39a05b",
   "metadata": {
    "papermill": {
     "duration": 0.01232,
     "end_time": "2022-05-26T10:44:08.565692",
     "exception": false,
     "start_time": "2022-05-26T10:44:08.553372",
     "status": "completed"
    },
    "tags": []
   },
   "source": [
    "2) Convert our date columns to datetime\n",
    "\n",
    "Most of the entries in the \"Date\" column follow the same format: \"month/day/four-digit year\".  However, the entry at index 3378 follows a completely different pattern.  Run the code cell below to see this."
   ]
  },
  {
   "cell_type": "code",
   "execution_count": 9,
   "id": "8f6a3306",
   "metadata": {
    "execution": {
     "iopub.execute_input": "2022-05-26T10:44:08.593500Z",
     "iopub.status.busy": "2022-05-26T10:44:08.592828Z",
     "iopub.status.idle": "2022-05-26T10:44:08.628550Z",
     "shell.execute_reply": "2022-05-26T10:44:08.627475Z"
    },
    "papermill": {
     "duration": 0.053273,
     "end_time": "2022-05-26T10:44:08.631275",
     "exception": false,
     "start_time": "2022-05-26T10:44:08.578002",
     "status": "completed"
    },
    "tags": []
   },
   "outputs": [
    {
     "data": {
      "text/html": [
       "<div>\n",
       "<style scoped>\n",
       "    .dataframe tbody tr th:only-of-type {\n",
       "        vertical-align: middle;\n",
       "    }\n",
       "\n",
       "    .dataframe tbody tr th {\n",
       "        vertical-align: top;\n",
       "    }\n",
       "\n",
       "    .dataframe thead th {\n",
       "        text-align: right;\n",
       "    }\n",
       "</style>\n",
       "<table border=\"1\" class=\"dataframe\">\n",
       "  <thead>\n",
       "    <tr style=\"text-align: right;\">\n",
       "      <th></th>\n",
       "      <th>Date</th>\n",
       "      <th>Time</th>\n",
       "      <th>Latitude</th>\n",
       "      <th>Longitude</th>\n",
       "      <th>Type</th>\n",
       "      <th>Depth</th>\n",
       "      <th>Depth Error</th>\n",
       "      <th>Depth Seismic Stations</th>\n",
       "      <th>Magnitude</th>\n",
       "      <th>Magnitude Type</th>\n",
       "      <th>...</th>\n",
       "      <th>Magnitude Seismic Stations</th>\n",
       "      <th>Azimuthal Gap</th>\n",
       "      <th>Horizontal Distance</th>\n",
       "      <th>Horizontal Error</th>\n",
       "      <th>Root Mean Square</th>\n",
       "      <th>ID</th>\n",
       "      <th>Source</th>\n",
       "      <th>Location Source</th>\n",
       "      <th>Magnitude Source</th>\n",
       "      <th>Status</th>\n",
       "    </tr>\n",
       "  </thead>\n",
       "  <tbody>\n",
       "    <tr>\n",
       "      <th>3378</th>\n",
       "      <td>1975-02-23T02:58:41.000Z</td>\n",
       "      <td>1975-02-23T02:58:41.000Z</td>\n",
       "      <td>8.017</td>\n",
       "      <td>124.075</td>\n",
       "      <td>Earthquake</td>\n",
       "      <td>623.0</td>\n",
       "      <td>NaN</td>\n",
       "      <td>NaN</td>\n",
       "      <td>5.6</td>\n",
       "      <td>MB</td>\n",
       "      <td>...</td>\n",
       "      <td>NaN</td>\n",
       "      <td>NaN</td>\n",
       "      <td>NaN</td>\n",
       "      <td>NaN</td>\n",
       "      <td>NaN</td>\n",
       "      <td>USP0000A09</td>\n",
       "      <td>US</td>\n",
       "      <td>US</td>\n",
       "      <td>US</td>\n",
       "      <td>Reviewed</td>\n",
       "    </tr>\n",
       "    <tr>\n",
       "      <th>3379</th>\n",
       "      <td>02/23/1975</td>\n",
       "      <td>03:53:36</td>\n",
       "      <td>-21.727</td>\n",
       "      <td>-71.356</td>\n",
       "      <td>Earthquake</td>\n",
       "      <td>33.0</td>\n",
       "      <td>NaN</td>\n",
       "      <td>NaN</td>\n",
       "      <td>5.6</td>\n",
       "      <td>MB</td>\n",
       "      <td>...</td>\n",
       "      <td>NaN</td>\n",
       "      <td>NaN</td>\n",
       "      <td>NaN</td>\n",
       "      <td>NaN</td>\n",
       "      <td>NaN</td>\n",
       "      <td>USP0000A0A</td>\n",
       "      <td>US</td>\n",
       "      <td>US</td>\n",
       "      <td>US</td>\n",
       "      <td>Reviewed</td>\n",
       "    </tr>\n",
       "    <tr>\n",
       "      <th>3380</th>\n",
       "      <td>02/23/1975</td>\n",
       "      <td>07:34:11</td>\n",
       "      <td>-10.879</td>\n",
       "      <td>166.667</td>\n",
       "      <td>Earthquake</td>\n",
       "      <td>33.0</td>\n",
       "      <td>NaN</td>\n",
       "      <td>NaN</td>\n",
       "      <td>5.5</td>\n",
       "      <td>MS</td>\n",
       "      <td>...</td>\n",
       "      <td>NaN</td>\n",
       "      <td>NaN</td>\n",
       "      <td>NaN</td>\n",
       "      <td>NaN</td>\n",
       "      <td>NaN</td>\n",
       "      <td>USP0000A0C</td>\n",
       "      <td>US</td>\n",
       "      <td>US</td>\n",
       "      <td>US</td>\n",
       "      <td>Reviewed</td>\n",
       "    </tr>\n",
       "    <tr>\n",
       "      <th>3381</th>\n",
       "      <td>02/25/1975</td>\n",
       "      <td>05:20:05</td>\n",
       "      <td>-7.388</td>\n",
       "      <td>149.798</td>\n",
       "      <td>Earthquake</td>\n",
       "      <td>33.0</td>\n",
       "      <td>NaN</td>\n",
       "      <td>NaN</td>\n",
       "      <td>5.5</td>\n",
       "      <td>MB</td>\n",
       "      <td>...</td>\n",
       "      <td>NaN</td>\n",
       "      <td>NaN</td>\n",
       "      <td>NaN</td>\n",
       "      <td>NaN</td>\n",
       "      <td>NaN</td>\n",
       "      <td>USP0000A12</td>\n",
       "      <td>US</td>\n",
       "      <td>US</td>\n",
       "      <td>US</td>\n",
       "      <td>Reviewed</td>\n",
       "    </tr>\n",
       "    <tr>\n",
       "      <th>3382</th>\n",
       "      <td>02/26/1975</td>\n",
       "      <td>04:48:55</td>\n",
       "      <td>85.047</td>\n",
       "      <td>97.969</td>\n",
       "      <td>Earthquake</td>\n",
       "      <td>33.0</td>\n",
       "      <td>NaN</td>\n",
       "      <td>NaN</td>\n",
       "      <td>5.6</td>\n",
       "      <td>MS</td>\n",
       "      <td>...</td>\n",
       "      <td>NaN</td>\n",
       "      <td>NaN</td>\n",
       "      <td>NaN</td>\n",
       "      <td>NaN</td>\n",
       "      <td>NaN</td>\n",
       "      <td>USP0000A1H</td>\n",
       "      <td>US</td>\n",
       "      <td>US</td>\n",
       "      <td>US</td>\n",
       "      <td>Reviewed</td>\n",
       "    </tr>\n",
       "  </tbody>\n",
       "</table>\n",
       "<p>5 rows × 21 columns</p>\n",
       "</div>"
      ],
      "text/plain": [
       "                          Date                      Time  Latitude  Longitude  \\\n",
       "3378  1975-02-23T02:58:41.000Z  1975-02-23T02:58:41.000Z     8.017    124.075   \n",
       "3379                02/23/1975                  03:53:36   -21.727    -71.356   \n",
       "3380                02/23/1975                  07:34:11   -10.879    166.667   \n",
       "3381                02/25/1975                  05:20:05    -7.388    149.798   \n",
       "3382                02/26/1975                  04:48:55    85.047     97.969   \n",
       "\n",
       "            Type  Depth  Depth Error  Depth Seismic Stations  Magnitude  \\\n",
       "3378  Earthquake  623.0          NaN                     NaN        5.6   \n",
       "3379  Earthquake   33.0          NaN                     NaN        5.6   \n",
       "3380  Earthquake   33.0          NaN                     NaN        5.5   \n",
       "3381  Earthquake   33.0          NaN                     NaN        5.5   \n",
       "3382  Earthquake   33.0          NaN                     NaN        5.6   \n",
       "\n",
       "     Magnitude Type  ...  Magnitude Seismic Stations  Azimuthal Gap  \\\n",
       "3378             MB  ...                         NaN            NaN   \n",
       "3379             MB  ...                         NaN            NaN   \n",
       "3380             MS  ...                         NaN            NaN   \n",
       "3381             MB  ...                         NaN            NaN   \n",
       "3382             MS  ...                         NaN            NaN   \n",
       "\n",
       "      Horizontal Distance  Horizontal Error  Root Mean Square          ID  \\\n",
       "3378                  NaN               NaN               NaN  USP0000A09   \n",
       "3379                  NaN               NaN               NaN  USP0000A0A   \n",
       "3380                  NaN               NaN               NaN  USP0000A0C   \n",
       "3381                  NaN               NaN               NaN  USP0000A12   \n",
       "3382                  NaN               NaN               NaN  USP0000A1H   \n",
       "\n",
       "     Source Location Source Magnitude Source    Status  \n",
       "3378     US              US               US  Reviewed  \n",
       "3379     US              US               US  Reviewed  \n",
       "3380     US              US               US  Reviewed  \n",
       "3381     US              US               US  Reviewed  \n",
       "3382     US              US               US  Reviewed  \n",
       "\n",
       "[5 rows x 21 columns]"
      ]
     },
     "execution_count": 9,
     "metadata": {},
     "output_type": "execute_result"
    }
   ],
   "source": [
    "earthquakes[3378:3383]"
   ]
  },
  {
   "cell_type": "markdown",
   "id": "7fd595e8",
   "metadata": {
    "papermill": {
     "duration": 0.013008,
     "end_time": "2022-05-26T10:44:08.657967",
     "exception": false,
     "start_time": "2022-05-26T10:44:08.644959",
     "status": "completed"
    },
    "tags": []
   },
   "source": [
    "This does appear to be an issue with data entry: ideally, all entries in the column have the same format.  We can get an idea of how widespread this issue is by checking the length of each entry in the \"Date\" column."
   ]
  },
  {
   "cell_type": "code",
   "execution_count": 10,
   "id": "9d0e5261",
   "metadata": {
    "execution": {
     "iopub.execute_input": "2022-05-26T10:44:08.687601Z",
     "iopub.status.busy": "2022-05-26T10:44:08.686461Z",
     "iopub.status.idle": "2022-05-26T10:44:08.694670Z",
     "shell.execute_reply": "2022-05-26T10:44:08.693573Z"
    },
    "papermill": {
     "duration": 0.025234,
     "end_time": "2022-05-26T10:44:08.696938",
     "exception": false,
     "start_time": "2022-05-26T10:44:08.671704",
     "status": "completed"
    },
    "tags": []
   },
   "outputs": [
    {
     "data": {
      "text/plain": [
       "dtype('O')"
      ]
     },
     "execution_count": 10,
     "metadata": {},
     "output_type": "execute_result"
    }
   ],
   "source": [
    "earthquakes['Date'].dtype"
   ]
  },
  {
   "cell_type": "code",
   "execution_count": 11,
   "id": "da01ba70",
   "metadata": {
    "execution": {
     "iopub.execute_input": "2022-05-26T10:44:08.724434Z",
     "iopub.status.busy": "2022-05-26T10:44:08.723463Z",
     "iopub.status.idle": "2022-05-26T10:44:08.752056Z",
     "shell.execute_reply": "2022-05-26T10:44:08.750628Z"
    },
    "papermill": {
     "duration": 0.044935,
     "end_time": "2022-05-26T10:44:08.754391",
     "exception": false,
     "start_time": "2022-05-26T10:44:08.709456",
     "status": "completed"
    },
    "tags": []
   },
   "outputs": [
    {
     "data": {
      "text/plain": [
       "10    23409\n",
       "24        3\n",
       "Name: Date, dtype: int64"
      ]
     },
     "execution_count": 11,
     "metadata": {},
     "output_type": "execute_result"
    }
   ],
   "source": [
    "date_lengths = earthquakes.Date.str.len()\n",
    "date_lengths.value_counts()"
   ]
  },
  {
   "cell_type": "markdown",
   "id": "cacac7b8",
   "metadata": {
    "papermill": {
     "duration": 0.01214,
     "end_time": "2022-05-26T10:44:08.779163",
     "exception": false,
     "start_time": "2022-05-26T10:44:08.767023",
     "status": "completed"
    },
    "tags": []
   },
   "source": [
    "Looks like there are two more rows that has a date in a different format.  Run the code cell below to obtain the indices corresponding to those rows and print the data."
   ]
  },
  {
   "cell_type": "code",
   "execution_count": 12,
   "id": "c3850014",
   "metadata": {
    "execution": {
     "iopub.execute_input": "2022-05-26T10:44:08.806131Z",
     "iopub.status.busy": "2022-05-26T10:44:08.805559Z",
     "iopub.status.idle": "2022-05-26T10:44:08.836834Z",
     "shell.execute_reply": "2022-05-26T10:44:08.835864Z"
    },
    "papermill": {
     "duration": 0.048144,
     "end_time": "2022-05-26T10:44:08.839830",
     "exception": false,
     "start_time": "2022-05-26T10:44:08.791686",
     "status": "completed"
    },
    "tags": []
   },
   "outputs": [
    {
     "name": "stdout",
     "output_type": "stream",
     "text": [
      "Indices with corrupted data: [ 3378  7512 20650]\n"
     ]
    },
    {
     "data": {
      "text/html": [
       "<div>\n",
       "<style scoped>\n",
       "    .dataframe tbody tr th:only-of-type {\n",
       "        vertical-align: middle;\n",
       "    }\n",
       "\n",
       "    .dataframe tbody tr th {\n",
       "        vertical-align: top;\n",
       "    }\n",
       "\n",
       "    .dataframe thead th {\n",
       "        text-align: right;\n",
       "    }\n",
       "</style>\n",
       "<table border=\"1\" class=\"dataframe\">\n",
       "  <thead>\n",
       "    <tr style=\"text-align: right;\">\n",
       "      <th></th>\n",
       "      <th>Date</th>\n",
       "      <th>Time</th>\n",
       "      <th>Latitude</th>\n",
       "      <th>Longitude</th>\n",
       "      <th>Type</th>\n",
       "      <th>Depth</th>\n",
       "      <th>Depth Error</th>\n",
       "      <th>Depth Seismic Stations</th>\n",
       "      <th>Magnitude</th>\n",
       "      <th>Magnitude Type</th>\n",
       "      <th>...</th>\n",
       "      <th>Magnitude Seismic Stations</th>\n",
       "      <th>Azimuthal Gap</th>\n",
       "      <th>Horizontal Distance</th>\n",
       "      <th>Horizontal Error</th>\n",
       "      <th>Root Mean Square</th>\n",
       "      <th>ID</th>\n",
       "      <th>Source</th>\n",
       "      <th>Location Source</th>\n",
       "      <th>Magnitude Source</th>\n",
       "      <th>Status</th>\n",
       "    </tr>\n",
       "  </thead>\n",
       "  <tbody>\n",
       "    <tr>\n",
       "      <th>3378</th>\n",
       "      <td>1975-02-23T02:58:41.000Z</td>\n",
       "      <td>1975-02-23T02:58:41.000Z</td>\n",
       "      <td>8.017</td>\n",
       "      <td>124.075</td>\n",
       "      <td>Earthquake</td>\n",
       "      <td>623.0</td>\n",
       "      <td>NaN</td>\n",
       "      <td>NaN</td>\n",
       "      <td>5.6</td>\n",
       "      <td>MB</td>\n",
       "      <td>...</td>\n",
       "      <td>NaN</td>\n",
       "      <td>NaN</td>\n",
       "      <td>NaN</td>\n",
       "      <td>NaN</td>\n",
       "      <td>NaN</td>\n",
       "      <td>USP0000A09</td>\n",
       "      <td>US</td>\n",
       "      <td>US</td>\n",
       "      <td>US</td>\n",
       "      <td>Reviewed</td>\n",
       "    </tr>\n",
       "    <tr>\n",
       "      <th>7512</th>\n",
       "      <td>1985-04-28T02:53:41.530Z</td>\n",
       "      <td>1985-04-28T02:53:41.530Z</td>\n",
       "      <td>-32.998</td>\n",
       "      <td>-71.766</td>\n",
       "      <td>Earthquake</td>\n",
       "      <td>33.0</td>\n",
       "      <td>NaN</td>\n",
       "      <td>NaN</td>\n",
       "      <td>5.6</td>\n",
       "      <td>MW</td>\n",
       "      <td>...</td>\n",
       "      <td>NaN</td>\n",
       "      <td>NaN</td>\n",
       "      <td>NaN</td>\n",
       "      <td>NaN</td>\n",
       "      <td>1.30</td>\n",
       "      <td>USP0002E81</td>\n",
       "      <td>US</td>\n",
       "      <td>US</td>\n",
       "      <td>HRV</td>\n",
       "      <td>Reviewed</td>\n",
       "    </tr>\n",
       "    <tr>\n",
       "      <th>20650</th>\n",
       "      <td>2011-03-13T02:23:34.520Z</td>\n",
       "      <td>2011-03-13T02:23:34.520Z</td>\n",
       "      <td>36.344</td>\n",
       "      <td>142.344</td>\n",
       "      <td>Earthquake</td>\n",
       "      <td>10.1</td>\n",
       "      <td>13.9</td>\n",
       "      <td>289.0</td>\n",
       "      <td>5.8</td>\n",
       "      <td>MWC</td>\n",
       "      <td>...</td>\n",
       "      <td>NaN</td>\n",
       "      <td>32.3</td>\n",
       "      <td>NaN</td>\n",
       "      <td>NaN</td>\n",
       "      <td>1.06</td>\n",
       "      <td>USP000HWQP</td>\n",
       "      <td>US</td>\n",
       "      <td>US</td>\n",
       "      <td>GCMT</td>\n",
       "      <td>Reviewed</td>\n",
       "    </tr>\n",
       "  </tbody>\n",
       "</table>\n",
       "<p>3 rows × 21 columns</p>\n",
       "</div>"
      ],
      "text/plain": [
       "                           Date                      Time  Latitude  \\\n",
       "3378   1975-02-23T02:58:41.000Z  1975-02-23T02:58:41.000Z     8.017   \n",
       "7512   1985-04-28T02:53:41.530Z  1985-04-28T02:53:41.530Z   -32.998   \n",
       "20650  2011-03-13T02:23:34.520Z  2011-03-13T02:23:34.520Z    36.344   \n",
       "\n",
       "       Longitude        Type  Depth  Depth Error  Depth Seismic Stations  \\\n",
       "3378     124.075  Earthquake  623.0          NaN                     NaN   \n",
       "7512     -71.766  Earthquake   33.0          NaN                     NaN   \n",
       "20650    142.344  Earthquake   10.1         13.9                   289.0   \n",
       "\n",
       "       Magnitude Magnitude Type  ...  Magnitude Seismic Stations  \\\n",
       "3378         5.6             MB  ...                         NaN   \n",
       "7512         5.6             MW  ...                         NaN   \n",
       "20650        5.8            MWC  ...                         NaN   \n",
       "\n",
       "       Azimuthal Gap  Horizontal Distance  Horizontal Error  Root Mean Square  \\\n",
       "3378             NaN                  NaN               NaN               NaN   \n",
       "7512             NaN                  NaN               NaN              1.30   \n",
       "20650           32.3                  NaN               NaN              1.06   \n",
       "\n",
       "               ID Source Location Source Magnitude Source    Status  \n",
       "3378   USP0000A09     US              US               US  Reviewed  \n",
       "7512   USP0002E81     US              US              HRV  Reviewed  \n",
       "20650  USP000HWQP     US              US             GCMT  Reviewed  \n",
       "\n",
       "[3 rows x 21 columns]"
      ]
     },
     "execution_count": 12,
     "metadata": {},
     "output_type": "execute_result"
    }
   ],
   "source": [
    "indices = np.where([date_lengths == 24])[1]\n",
    "print('Indices with corrupted data:', indices)\n",
    "earthquakes.loc[indices]"
   ]
  },
  {
   "cell_type": "code",
   "execution_count": 13,
   "id": "b1c286d4",
   "metadata": {
    "execution": {
     "iopub.execute_input": "2022-05-26T10:44:08.869604Z",
     "iopub.status.busy": "2022-05-26T10:44:08.868632Z",
     "iopub.status.idle": "2022-05-26T10:44:08.877536Z",
     "shell.execute_reply": "2022-05-26T10:44:08.876384Z"
    },
    "papermill": {
     "duration": 0.026213,
     "end_time": "2022-05-26T10:44:08.879991",
     "exception": false,
     "start_time": "2022-05-26T10:44:08.853778",
     "status": "completed"
    },
    "tags": []
   },
   "outputs": [],
   "source": [
    "earthquakes.loc[3378, \"Date\"] = \"02/23/1975\"\n",
    "earthquakes.loc[7512, \"Date\"] = \"04/28/1985\"\n",
    "earthquakes.loc[20650, \"Date\"] = \"03/13/2011\""
   ]
  },
  {
   "cell_type": "code",
   "execution_count": 14,
   "id": "bc640fd2",
   "metadata": {
    "execution": {
     "iopub.execute_input": "2022-05-26T10:44:08.908579Z",
     "iopub.status.busy": "2022-05-26T10:44:08.907895Z",
     "iopub.status.idle": "2022-05-26T10:44:08.981406Z",
     "shell.execute_reply": "2022-05-26T10:44:08.980139Z"
    },
    "papermill": {
     "duration": 0.09148,
     "end_time": "2022-05-26T10:44:08.984520",
     "exception": false,
     "start_time": "2022-05-26T10:44:08.893040",
     "status": "completed"
    },
    "tags": []
   },
   "outputs": [],
   "source": [
    "earthquakes['date_parsed'] = pd.to_datetime(earthquakes['Date'],infer_datetime_format=True)"
   ]
  },
  {
   "cell_type": "code",
   "execution_count": 15,
   "id": "5761305c",
   "metadata": {
    "execution": {
     "iopub.execute_input": "2022-05-26T10:44:09.014634Z",
     "iopub.status.busy": "2022-05-26T10:44:09.014197Z",
     "iopub.status.idle": "2022-05-26T10:44:09.018740Z",
     "shell.execute_reply": "2022-05-26T10:44:09.017614Z"
    },
    "papermill": {
     "duration": 0.022474,
     "end_time": "2022-05-26T10:44:09.020925",
     "exception": false,
     "start_time": "2022-05-26T10:44:08.998451",
     "status": "completed"
    },
    "tags": []
   },
   "outputs": [],
   "source": [
    "#earthquakes['Date'].drop(index=[3378, 7512, 20650], inplace=True)"
   ]
  },
  {
   "cell_type": "markdown",
   "id": "61dfd8f9",
   "metadata": {
    "papermill": {
     "duration": 0.012507,
     "end_time": "2022-05-26T10:44:09.047141",
     "exception": false,
     "start_time": "2022-05-26T10:44:09.034634",
     "status": "completed"
    },
    "tags": []
   },
   "source": [
    "Given all of this information, it's your turn to create a new column \"date_parsed\" in the `earthquakes` dataset that has correctly parsed dates in it.  \n",
    "\n",
    "**Note**: When completing this problem, you are allowed to (but are not required to) amend the entries in the \"Date\" and \"Time\" columns.  Do not remove any rows from the dataset."
   ]
  },
  {
   "cell_type": "code",
   "execution_count": 16,
   "id": "3a44e652",
   "metadata": {
    "execution": {
     "iopub.execute_input": "2022-05-26T10:44:09.075074Z",
     "iopub.status.busy": "2022-05-26T10:44:09.074659Z",
     "iopub.status.idle": "2022-05-26T10:44:09.083292Z",
     "shell.execute_reply": "2022-05-26T10:44:09.082476Z"
    },
    "papermill": {
     "duration": 0.02554,
     "end_time": "2022-05-26T10:44:09.085669",
     "exception": false,
     "start_time": "2022-05-26T10:44:09.060129",
     "status": "completed"
    },
    "tags": []
   },
   "outputs": [
    {
     "data": {
      "text/plain": [
       "0        01/02/1965\n",
       "1        01/04/1965\n",
       "2        01/05/1965\n",
       "3        01/08/1965\n",
       "4        01/09/1965\n",
       "            ...    \n",
       "23407    12/28/2016\n",
       "23408    12/28/2016\n",
       "23409    12/28/2016\n",
       "23410    12/29/2016\n",
       "23411    12/30/2016\n",
       "Name: Date, Length: 23412, dtype: object"
      ]
     },
     "execution_count": 16,
     "metadata": {},
     "output_type": "execute_result"
    }
   ],
   "source": [
    "earthquakes['Date']"
   ]
  },
  {
   "cell_type": "code",
   "execution_count": 17,
   "id": "039ef46a",
   "metadata": {
    "execution": {
     "iopub.execute_input": "2022-05-26T10:44:09.114539Z",
     "iopub.status.busy": "2022-05-26T10:44:09.114105Z",
     "iopub.status.idle": "2022-05-26T10:44:09.154534Z",
     "shell.execute_reply": "2022-05-26T10:44:09.153185Z"
    },
    "papermill": {
     "duration": 0.057847,
     "end_time": "2022-05-26T10:44:09.157056",
     "exception": false,
     "start_time": "2022-05-26T10:44:09.099209",
     "status": "completed"
    },
    "tags": []
   },
   "outputs": [
    {
     "data": {
      "text/plain": [
       "0       1965-01-02\n",
       "1       1965-01-04\n",
       "2       1965-01-05\n",
       "3       1965-01-08\n",
       "4       1965-01-09\n",
       "           ...    \n",
       "23407   2016-12-28\n",
       "23408   2016-12-28\n",
       "23409   2016-12-28\n",
       "23410   2016-12-29\n",
       "23411   2016-12-30\n",
       "Name: Date, Length: 23412, dtype: datetime64[ns]"
      ]
     },
     "execution_count": 17,
     "metadata": {},
     "output_type": "execute_result"
    }
   ],
   "source": [
    "earthquakes['Date'] = pd.to_datetime(earthquakes['Date'])\n",
    "earthquakes['Date']"
   ]
  },
  {
   "cell_type": "code",
   "execution_count": 18,
   "id": "31f7f53c",
   "metadata": {
    "execution": {
     "iopub.execute_input": "2022-05-26T10:44:09.185449Z",
     "iopub.status.busy": "2022-05-26T10:44:09.184844Z",
     "iopub.status.idle": "2022-05-26T10:44:09.198465Z",
     "shell.execute_reply": "2022-05-26T10:44:09.197116Z"
    },
    "papermill": {
     "duration": 0.030212,
     "end_time": "2022-05-26T10:44:09.200733",
     "exception": false,
     "start_time": "2022-05-26T10:44:09.170521",
     "status": "completed"
    },
    "tags": []
   },
   "outputs": [
    {
     "data": {
      "application/javascript": [
       "parent.postMessage({\"jupyterEvent\": \"custom.exercise_interaction\", \"data\": {\"outcomeType\": 1, \"valueTowardsCompletion\": 0.25, \"interactionType\": 1, \"questionType\": 2, \"questionId\": \"2_ConvertToDatetime\", \"learnToolsVersion\": \"0.3.4\", \"failureMessage\": \"\", \"exceptionClass\": \"\", \"trace\": \"\"}}, \"*\")"
      ],
      "text/plain": [
       "<IPython.core.display.Javascript object>"
      ]
     },
     "metadata": {},
     "output_type": "display_data"
    },
    {
     "data": {
      "text/markdown": [
       "<span style=\"color:#33cc33\">Correct</span>"
      ],
      "text/plain": [
       "Correct"
      ]
     },
     "metadata": {},
     "output_type": "display_data"
    }
   ],
   "source": [
    "# TODO: Your code here\n",
    "import datetime\n",
    "earthquakes['date_parsed'].head()\n",
    "# Check your answer\n",
    "q2.check()"
   ]
  },
  {
   "cell_type": "code",
   "execution_count": 19,
   "id": "274010a6",
   "metadata": {
    "execution": {
     "iopub.execute_input": "2022-05-26T10:44:09.230063Z",
     "iopub.status.busy": "2022-05-26T10:44:09.229699Z",
     "iopub.status.idle": "2022-05-26T10:44:09.238103Z",
     "shell.execute_reply": "2022-05-26T10:44:09.236977Z"
    },
    "papermill": {
     "duration": 0.02595,
     "end_time": "2022-05-26T10:44:09.240535",
     "exception": false,
     "start_time": "2022-05-26T10:44:09.214585",
     "status": "completed"
    },
    "tags": []
   },
   "outputs": [
    {
     "data": {
      "application/javascript": [
       "parent.postMessage({\"jupyterEvent\": \"custom.exercise_interaction\", \"data\": {\"interactionType\": 2, \"questionType\": 2, \"questionId\": \"2_ConvertToDatetime\", \"learnToolsVersion\": \"0.3.4\", \"valueTowardsCompletion\": 0.0, \"failureMessage\": \"\", \"exceptionClass\": \"\", \"trace\": \"\", \"outcomeType\": 4}}, \"*\")"
      ],
      "text/plain": [
       "<IPython.core.display.Javascript object>"
      ]
     },
     "metadata": {},
     "output_type": "display_data"
    },
    {
     "data": {
      "text/markdown": [
       "<span style=\"color:#3366cc\">Hint:</span> Since there are only three rows with a fancy type, you might consider manually editing them. For instance, you can begin by setting `earthquakes.loc[3378, \"Date\"] = \"02/23/1975\"`."
      ],
      "text/plain": [
       "Hint: Since there are only three rows with a fancy type, you might consider manually editing them. For instance, you can begin by setting `earthquakes.loc[3378, \"Date\"] = \"02/23/1975\"`."
      ]
     },
     "metadata": {},
     "output_type": "display_data"
    }
   ],
   "source": [
    "# Lines below will give you a hint or solution code\n",
    "q2.hint()\n",
    "#q2.solution()"
   ]
  },
  {
   "cell_type": "markdown",
   "id": "f70cf7af",
   "metadata": {
    "papermill": {
     "duration": 0.012992,
     "end_time": "2022-05-26T10:44:09.267613",
     "exception": false,
     "start_time": "2022-05-26T10:44:09.254621",
     "status": "completed"
    },
    "tags": []
   },
   "source": [
    "# 3) Select the day of the month\n",
    "\n",
    "Create a Pandas Series `day_of_month_earthquakes` containing the day of the month from the \"date_parsed\" column."
   ]
  },
  {
   "cell_type": "code",
   "execution_count": 20,
   "id": "94045254",
   "metadata": {
    "execution": {
     "iopub.execute_input": "2022-05-26T10:44:09.296666Z",
     "iopub.status.busy": "2022-05-26T10:44:09.295436Z",
     "iopub.status.idle": "2022-05-26T10:44:09.308704Z",
     "shell.execute_reply": "2022-05-26T10:44:09.307216Z"
    },
    "papermill": {
     "duration": 0.029964,
     "end_time": "2022-05-26T10:44:09.310776",
     "exception": false,
     "start_time": "2022-05-26T10:44:09.280812",
     "status": "completed"
    },
    "tags": []
   },
   "outputs": [
    {
     "data": {
      "application/javascript": [
       "parent.postMessage({\"jupyterEvent\": \"custom.exercise_interaction\", \"data\": {\"outcomeType\": 1, \"valueTowardsCompletion\": 0.25, \"interactionType\": 1, \"questionType\": 1, \"questionId\": \"3_DayOfMonth\", \"learnToolsVersion\": \"0.3.4\", \"failureMessage\": \"\", \"exceptionClass\": \"\", \"trace\": \"\"}}, \"*\")"
      ],
      "text/plain": [
       "<IPython.core.display.Javascript object>"
      ]
     },
     "metadata": {},
     "output_type": "display_data"
    },
    {
     "data": {
      "text/markdown": [
       "<span style=\"color:#33cc33\">Correct</span>"
      ],
      "text/plain": [
       "Correct"
      ]
     },
     "metadata": {},
     "output_type": "display_data"
    }
   ],
   "source": [
    "# try to get the day of the month from the date column\n",
    "day_of_month_earthquakes = earthquakes['date_parsed'].dt.day\n",
    "\n",
    "# Check your answer\n",
    "q3.check()"
   ]
  },
  {
   "cell_type": "code",
   "execution_count": 21,
   "id": "f696ec23",
   "metadata": {
    "execution": {
     "iopub.execute_input": "2022-05-26T10:44:09.340621Z",
     "iopub.status.busy": "2022-05-26T10:44:09.340073Z",
     "iopub.status.idle": "2022-05-26T10:44:09.352723Z",
     "shell.execute_reply": "2022-05-26T10:44:09.351492Z"
    },
    "papermill": {
     "duration": 0.029923,
     "end_time": "2022-05-26T10:44:09.354852",
     "exception": false,
     "start_time": "2022-05-26T10:44:09.324929",
     "status": "completed"
    },
    "tags": []
   },
   "outputs": [
    {
     "data": {
      "application/javascript": [
       "parent.postMessage({\"jupyterEvent\": \"custom.exercise_interaction\", \"data\": {\"interactionType\": 2, \"questionType\": 1, \"questionId\": \"3_DayOfMonth\", \"learnToolsVersion\": \"0.3.4\", \"valueTowardsCompletion\": 0.0, \"failureMessage\": \"\", \"exceptionClass\": \"\", \"trace\": \"\", \"outcomeType\": 4}}, \"*\")"
      ],
      "text/plain": [
       "<IPython.core.display.Javascript object>"
      ]
     },
     "metadata": {},
     "output_type": "display_data"
    },
    {
     "data": {
      "text/markdown": [
       "<span style=\"color:#3366cc\">Hint:</span> Use the `.dt` accessor."
      ],
      "text/plain": [
       "Hint: Use the `.dt` accessor."
      ]
     },
     "metadata": {},
     "output_type": "display_data"
    },
    {
     "data": {
      "application/javascript": [
       "parent.postMessage({\"jupyterEvent\": \"custom.exercise_interaction\", \"data\": {\"interactionType\": 3, \"questionType\": 1, \"questionId\": \"3_DayOfMonth\", \"learnToolsVersion\": \"0.3.4\", \"valueTowardsCompletion\": 0.0, \"failureMessage\": \"\", \"exceptionClass\": \"\", \"trace\": \"\", \"outcomeType\": 4}}, \"*\")"
      ],
      "text/plain": [
       "<IPython.core.display.Javascript object>"
      ]
     },
     "metadata": {},
     "output_type": "display_data"
    },
    {
     "data": {
      "text/markdown": [
       "<span style=\"color:#33cc99\">Solution:</span> \n",
       "```python\n",
       "day_of_month_earthquakes = earthquakes['date_parsed'].dt.day\n",
       "\n",
       "```"
      ],
      "text/plain": [
       "Solution: \n",
       "```python\n",
       "day_of_month_earthquakes = earthquakes['date_parsed'].dt.day\n",
       "\n",
       "```"
      ]
     },
     "metadata": {},
     "output_type": "display_data"
    }
   ],
   "source": [
    "# Lines below will give you a hint or solution code\n",
    "q3.hint()\n",
    "q3.solution()"
   ]
  },
  {
   "cell_type": "markdown",
   "id": "aa40cfdb",
   "metadata": {
    "papermill": {
     "duration": 0.014398,
     "end_time": "2022-05-26T10:44:09.384516",
     "exception": false,
     "start_time": "2022-05-26T10:44:09.370118",
     "status": "completed"
    },
    "tags": []
   },
   "source": [
    "# 4) Plot the day of the month to check the date parsing\n",
    "\n",
    "Plot the days of the month from your earthquake dataset."
   ]
  },
  {
   "cell_type": "code",
   "execution_count": 22,
   "id": "7db8675a",
   "metadata": {
    "execution": {
     "iopub.execute_input": "2022-05-26T10:44:09.415569Z",
     "iopub.status.busy": "2022-05-26T10:44:09.415145Z",
     "iopub.status.idle": "2022-05-26T10:44:09.793444Z",
     "shell.execute_reply": "2022-05-26T10:44:09.792469Z"
    },
    "papermill": {
     "duration": 0.397018,
     "end_time": "2022-05-26T10:44:09.796154",
     "exception": false,
     "start_time": "2022-05-26T10:44:09.399136",
     "status": "completed"
    },
    "tags": []
   },
   "outputs": [
    {
     "data": {
      "text/plain": [
       "<seaborn.axisgrid.FacetGrid at 0x7f73fbf221d0>"
      ]
     },
     "execution_count": 22,
     "metadata": {},
     "output_type": "execute_result"
    },
    {
     "data": {
      "image/png": "[encoded data removed]",
      "text/plain": [
       "<Figure size 360x360 with 1 Axes>"
      ]
     },
     "metadata": {
      "needs_background": "light"
     },
     "output_type": "display_data"
    }
   ],
   "source": [
    "# TODO: Your code here!\n",
    "import matplotlib.pyplot as plt\n",
    "import seaborn as sns\n",
    "sns.displot(data=earthquakes, x=earthquakes['date_parsed'].dt.month)"
   ]
  },
  {
   "cell_type": "markdown",
   "id": "b5f74ec8",
   "metadata": {
    "papermill": {
     "duration": 0.016069,
     "end_time": "2022-05-26T10:44:09.829769",
     "exception": false,
     "start_time": "2022-05-26T10:44:09.813700",
     "status": "completed"
    },
    "tags": []
   },
   "source": [
    "Does the graph make sense to you?"
   ]
  },
  {
   "cell_type": "code",
   "execution_count": 23,
   "id": "1a4e62a8",
   "metadata": {
    "execution": {
     "iopub.execute_input": "2022-05-26T10:44:09.865376Z",
     "iopub.status.busy": "2022-05-26T10:44:09.864522Z",
     "iopub.status.idle": "2022-05-26T10:44:09.873904Z",
     "shell.execute_reply": "2022-05-26T10:44:09.872777Z"
    },
    "papermill": {
     "duration": 0.029751,
     "end_time": "2022-05-26T10:44:09.876035",
     "exception": false,
     "start_time": "2022-05-26T10:44:09.846284",
     "status": "completed"
    },
    "tags": []
   },
   "outputs": [
    {
     "data": {
      "application/javascript": [
       "parent.postMessage({\"jupyterEvent\": \"custom.exercise_interaction\", \"data\": {\"outcomeType\": 1, \"valueTowardsCompletion\": 0.25, \"interactionType\": 1, \"questionType\": 4, \"questionId\": \"4_PlotDayOfMonth\", \"learnToolsVersion\": \"0.3.4\", \"failureMessage\": \"\", \"exceptionClass\": \"\", \"trace\": \"\"}}, \"*\")"
      ],
      "text/plain": [
       "<IPython.core.display.Javascript object>"
      ]
     },
     "metadata": {},
     "output_type": "display_data"
    },
    {
     "data": {
      "text/markdown": [
       "<span style=\"color:#33cc33\">Correct:</span> \n",
       "\n",
       "The graph should make sense: it shows a relatively even distribution in days of the month,which is what we would expect."
      ],
      "text/plain": [
       "Correct: \n",
       "\n",
       "The graph should make sense: it shows a relatively even distribution in days of the month,which is what we would expect."
      ]
     },
     "metadata": {},
     "output_type": "display_data"
    }
   ],
   "source": [
    "# Check your answer (Run this code cell to receive credit!)\n",
    "q4.check()"
   ]
  },
  {
   "cell_type": "code",
   "execution_count": 24,
   "id": "6431775f",
   "metadata": {
    "execution": {
     "iopub.execute_input": "2022-05-26T10:44:09.909249Z",
     "iopub.status.busy": "2022-05-26T10:44:09.907903Z",
     "iopub.status.idle": "2022-05-26T10:44:09.917928Z",
     "shell.execute_reply": "2022-05-26T10:44:09.916817Z"
    },
    "papermill": {
     "duration": 0.028829,
     "end_time": "2022-05-26T10:44:09.920113",
     "exception": false,
     "start_time": "2022-05-26T10:44:09.891284",
     "status": "completed"
    },
    "tags": []
   },
   "outputs": [
    {
     "data": {
      "application/javascript": [
       "parent.postMessage({\"jupyterEvent\": \"custom.exercise_interaction\", \"data\": {\"interactionType\": 2, \"questionType\": 4, \"questionId\": \"4_PlotDayOfMonth\", \"learnToolsVersion\": \"0.3.4\", \"valueTowardsCompletion\": 0.0, \"failureMessage\": \"\", \"exceptionClass\": \"\", \"trace\": \"\", \"outcomeType\": 4}}, \"*\")"
      ],
      "text/plain": [
       "<IPython.core.display.Javascript object>"
      ]
     },
     "metadata": {},
     "output_type": "display_data"
    },
    {
     "data": {
      "text/markdown": [
       "<span style=\"color:#3366cc\">Hint:</span> \n",
       "Remove the missing values, and then use `sns.distplot()` as follows:\n",
       "\n",
       "```python\n",
       "# remove na's\n",
       "day_of_month_earthquakes = day_of_month_earthquakes.dropna()\n",
       "\n",
       "# plot the day of the month\n",
       "sns.distplot(day_of_month_earthquakes, kde=False, bins=31)\n",
       "```\n",
       "\n"
      ],
      "text/plain": [
       "Hint: \n",
       "Remove the missing values, and then use `sns.distplot()` as follows:\n",
       "\n",
       "```python\n",
       "# remove na's\n",
       "day_of_month_earthquakes = day_of_month_earthquakes.dropna()\n",
       "\n",
       "# plot the day of the month\n",
       "sns.distplot(day_of_month_earthquakes, kde=False, bins=31)\n",
       "```\n"
      ]
     },
     "metadata": {},
     "output_type": "display_data"
    }
   ],
   "source": [
    "# Line below will give you a hint\n",
    "q4.hint()"
   ]
  },
  {
   "cell_type": "markdown",
   "id": "c4a494c8",
   "metadata": {
    "papermill": {
     "duration": 0.0155,
     "end_time": "2022-05-26T10:44:09.951950",
     "exception": false,
     "start_time": "2022-05-26T10:44:09.936450",
     "status": "completed"
    },
    "tags": []
   },
   "source": [
    "# (Optional) Bonus Challenge\n",
    "\n",
    "For an extra challenge, you'll work with a [Smithsonian dataset](https://www.kaggle.com/smithsonian/volcanic-eruptions) that documents Earth's volcanoes and their eruptive history over the past 10,000 years \n",
    "\n",
    "Run the next code cell to load the data."
   ]
  },
  {
   "cell_type": "code",
   "execution_count": 25,
   "id": "62708d59",
   "metadata": {
    "execution": {
     "iopub.execute_input": "2022-05-26T10:44:09.987124Z",
     "iopub.status.busy": "2022-05-26T10:44:09.986112Z",
     "iopub.status.idle": "2022-05-26T10:44:10.021031Z",
     "shell.execute_reply": "2022-05-26T10:44:10.019954Z"
    },
    "papermill": {
     "duration": 0.05593,
     "end_time": "2022-05-26T10:44:10.023766",
     "exception": false,
     "start_time": "2022-05-26T10:44:09.967836",
     "status": "completed"
    },
    "tags": []
   },
   "outputs": [],
   "source": [
    "volcanos = pd.read_csv(\"../input/volcanic-eruptions/database.csv\")"
   ]
  },
  {
   "cell_type": "markdown",
   "id": "9227b45e",
   "metadata": {
    "papermill": {
     "duration": 0.016106,
     "end_time": "2022-05-26T10:44:10.056381",
     "exception": false,
     "start_time": "2022-05-26T10:44:10.040275",
     "status": "completed"
    },
    "tags": []
   },
   "source": [
    "Try parsing the column \"Last Known Eruption\" from the `volcanos` dataframe. This column contains a mixture of text (\"Unknown\") and years both before the common era (BCE, also known as BC) and in the common era (CE, also known as AD)."
   ]
  },
  {
   "cell_type": "code",
   "execution_count": 26,
   "id": "53b65094",
   "metadata": {
    "execution": {
     "iopub.execute_input": "2022-05-26T10:44:10.088454Z",
     "iopub.status.busy": "2022-05-26T10:44:10.087978Z",
     "iopub.status.idle": "2022-05-26T10:44:10.098705Z",
     "shell.execute_reply": "2022-05-26T10:44:10.097715Z"
    },
    "papermill": {
     "duration": 0.029182,
     "end_time": "2022-05-26T10:44:10.100795",
     "exception": false,
     "start_time": "2022-05-26T10:44:10.071613",
     "status": "completed"
    },
    "tags": []
   },
   "outputs": [
    {
     "data": {
      "text/plain": [
       "764     Unknown\n",
       "1069    1996 CE\n",
       "34      1855 CE\n",
       "489     2016 CE\n",
       "9       1302 CE\n",
       "Name: Last Known Eruption, dtype: object"
      ]
     },
     "execution_count": 26,
     "metadata": {},
     "output_type": "execute_result"
    }
   ],
   "source": [
    "volcanos['Last Known Eruption'].sample(5)"
   ]
  },
  {
   "cell_type": "markdown",
   "id": "9a4e1e9d",
   "metadata": {
    "papermill": {
     "duration": 0.01506,
     "end_time": "2022-05-26T10:44:10.131448",
     "exception": false,
     "start_time": "2022-05-26T10:44:10.116388",
     "status": "completed"
    },
    "tags": []
   },
   "source": [
    "# (Optional) More practice\n",
    "\n",
    "If you're interested in graphing time series, [check out this tutorial](https://www.kaggle.com/residentmario/time-series-plotting-optional).\n",
    "\n",
    "You can also look into passing columns that you know have dates in them  the `parse_dates` argument in `read_csv`. (The documention [is here](https://pandas.pydata.org/pandas-docs/stable/generated/pandas.read_csv.html).) Do note that this method can be very slow, but depending on your needs it may sometimes be handy to use.\n",
    "\n",
    "# Keep going\n",
    "\n",
    "In the next lesson, learn how to [**work with character encodings**](https://www.kaggle.com/alexisbcook/character-encodings)."
   ]
  },
  {
   "cell_type": "markdown",
   "id": "45e4bb89",
   "metadata": {
    "papermill": {
     "duration": 0.014868,
     "end_time": "2022-05-26T10:44:10.161584",
     "exception": false,
     "start_time": "2022-05-26T10:44:10.146716",
     "status": "completed"
    },
    "tags": []
   },
   "source": [
    "---\n",
    "\n",
    "\n",
    "\n",
    "\n",
    "*Have questions or comments? Visit the [course discussion forum](https://www.kaggle.com/learn/data-cleaning/discussion) to chat with other learners.*"
   ]
  }
 ],
 "metadata": {
  "kernelspec": {
   "display_name": "Python 3",
   "language": "python",
   "name": "python3"
  },
  "language_info": {
   "codemirror_mode": {
    "name": "ipython",
    "version": 3
   },
   "file_extension": ".py",
   "mimetype": "text/x-python",
   "name": "python",
   "nbconvert_exporter": "python",
   "pygments_lexer": "ipython3",
   "version": "3.7.12"
  },
  "papermill": {
   "default_parameters": {},
   "duration": 15.493228,
   "end_time": "2022-05-26T10:44:11.302646",
   "environment_variables": {},
   "exception": null,
   "input_path": "__notebook__.ipynb",
   "output_path": "__notebook__.ipynb",
   "parameters": {},
   "start_time": "2022-05-26T10:43:55.809418",
   "version": "2.3.4"
  }
 },
 "nbformat": 4,
 "nbformat_minor": 5
}
